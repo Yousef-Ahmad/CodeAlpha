{
 "cells": [
  {
   "cell_type": "markdown",
   "metadata": {},
   "source": [
    "## Handwritten Character Recognition\n",
    "\n",
    "---\n",
    "\n",
    "### Objective:\n",
    "Create a handwritten character recognition system capable of recognizing various handwritten characters or alphabets. This system can be extended to recognize entire words or sentences.\n"
   ]
  },
  {
   "cell_type": "markdown",
   "metadata": {},
   "source": [
    "## Steps to Build the Handwritten Character Recognition System:\n",
    "\n",
    "---\n",
    "\n",
    "### Data Loading and Preprocessing:\n",
    "- **Load the EMNIST dataset:** Load the EMNIST dataset and preprocess the images for training.\n",
    "\n",
    "---\n",
    "\n",
    "### Model Building:\n",
    "- **Design the model:** Design a deep learning model using `tensorflow` to recognize handwritten characters.\n",
    "\n",
    "---\n",
    "\n",
    "### Model Training and Evaluation:\n",
    "- **Train the model:** Train the model on the dataset.\n",
    "- **Evaluate performance:** Evaluate the model's performance on the test set.\n",
    "\n",
    "---\n",
    "\n",
    "### Prediction:\n",
    "- **Make predictions:** Use the trained model to make predictions on new handwritten characters.\n"
   ]
  },
  {
   "cell_type": "markdown",
   "metadata": {},
   "source": [
    "1. Data Loading and Preprocessing"
   ]
  },
  {
   "cell_type": "code",
   "execution_count": null,
   "metadata": {},
   "outputs": [],
   "source": [
    "import numpy as np\n",
    "import matplotlib.pyplot as plt\n",
    "from tensorflow.keras.datasets import emnist\n",
    "from sklearn.model_selection import train_test_split\n",
    "\n",
    "\n",
    "(X_train, y_train), (X_test, y_test) = emnist.load_data(type='letters')\n",
    "\n",
    "X_train = X_train.astype('float32') / 255.0\n",
    "X_test = X_test.astype('float32') / 255.0\n",
    "\n",
    "\n",
    "X_train = X_train.reshape(-1, 28, 28, 1)\n",
    "X_test = X_test.reshape(-1, 28, 28, 1)\n",
    "\n",
    "\n",
    "X_train, X_val, y_train, y_val = train_test_split(X_train, y_train, test_size=0.1, random_state=42)\n"
   ]
  },
  {
   "cell_type": "markdown",
   "metadata": {},
   "source": [
    "2. Model Building"
   ]
  },
  {
   "cell_type": "code",
   "execution_count": null,
   "metadata": {},
   "outputs": [],
   "source": [
    "import tensorflow as tf\n",
    "from tensorflow.keras.models import Sequential\n",
    "from tensorflow.keras.layers import Conv2D, MaxPooling2D, Flatten, Dense, Dropout\n",
    "\n",
    "\n",
    "model = Sequential([\n",
    "    Conv2D(32, (3, 3), activation='relu', input_shape=(28, 28, 1)),\n",
    "    MaxPooling2D((2, 2)),\n",
    "    Conv2D(64, (3, 3), activation='relu'),\n",
    "    MaxPooling2D((2, 2)),\n",
    "    Flatten(),\n",
    "    Dense(128, activation='relu'),\n",
    "    Dropout(0.5),\n",
    "    Dense(27, activation='softmax')  # 27 classes (26 letters + 1 for unknown)\n",
    "])\n",
    "\n",
    "\n",
    "model.compile(optimizer='adam', loss='sparse_categorical_crossentropy', metrics=['accuracy'])\n",
    "\n",
    "\n",
    "model.summary()\n"
   ]
  },
  {
   "cell_type": "markdown",
   "metadata": {},
   "source": [
    "3. Model Training and Evaluation"
   ]
  },
  {
   "cell_type": "code",
   "execution_count": null,
   "metadata": {},
   "outputs": [],
   "source": [
    "\n",
    "history = model.fit(X_train, y_train, validation_data=(X_val, y_val), epochs=10, batch_size=128)\n",
    "\n",
    "loss, accuracy = model.evaluate(X_test, y_test)\n",
    "print(f\"Test Loss: {loss}\")\n",
    "print(f\"Test Accuracy: {accuracy * 100:.2f}%\")\n"
   ]
  },
  {
   "cell_type": "markdown",
   "metadata": {},
   "source": [
    "4. Prediction"
   ]
  },
  {
   "cell_type": "code",
   "execution_count": null,
   "metadata": {},
   "outputs": [],
   "source": [
    "predictions = model.predict(X_test)\n",
    "\n",
    "\n",
    "plt.figure(figsize=(10, 10))\n",
    "for i in range(25):\n",
    "    plt.subplot(5, 5, i+1)\n",
    "    plt.imshow(X_test[i].reshape(28, 28), cmap='gray')\n",
    "    plt.title(f\"True: {chr(y_test[i] + 97)}, Pred: {chr(np.argmax(predictions[i]) + 97)}\")\n",
    "    plt.axis('off')\n",
    "plt.show()\n"
   ]
  },
  {
   "cell_type": "markdown",
   "metadata": {},
   "source": [
    "## Explanation:\n",
    "\n",
    "---\n",
    "\n",
    "### Data Loading and Preprocessing:\n",
    "\n",
    "#### Loaded the EMNIST dataset:\n",
    "- Loaded the EMNIST dataset using `tensorflow.keras.datasets`.\n",
    "\n",
    "#### Normalized pixel values:\n",
    "- Normalized the pixel values of the images to the range [0, 1].\n",
    "\n",
    "#### Reshaped images:\n",
    "- Reshaped the images to 28x28x1 (grayscale).\n",
    "\n",
    "#### Split the dataset:\n",
    "- Split the dataset into training, validation, and testing sets.\n",
    "\n",
    "---\n",
    "\n",
    "### Model Building:\n",
    "\n",
    "#### Designed Convolutional Neural Network (CNN):\n",
    "- Designed a Convolutional Neural Network (CNN) using `tensorflow.keras`.\n",
    "\n",
    "#### CNN Architecture:\n",
    "- Used Conv2D layers for feature extraction.\n",
    "- Used MaxPooling2D layers for downsampling.\n",
    "- Used dense layers for classification.\n",
    "- The output layer has 27 units: 26 for letters and 1 for unknown characters.\n",
    "\n",
    "---\n",
    "\n",
    "### Model Training and Evaluation:\n",
    "\n",
    "#### Compiled and trained the model:\n",
    "- Compiled the model using an appropriate optimizer, loss function, and metrics.\n",
    "- Trained the model on the training data.\n",
    "\n",
    "#### Model Evaluation:\n",
    "- Evaluated the model's performance on the test data to assess its accuracy and other relevant metrics.\n",
    "\n",
    "---\n",
    "\n",
    "### Prediction:\n",
    "\n",
    "#### Made predictions:\n",
    "- Made predictions using the trained model on the test data.\n",
    "\n",
    "#### Visualization:\n",
    "- Plotted some predictions along with the true labels for visualization to understand the model's performance visually.\n"
   ]
  }
 ],
 "metadata": {
  "kernelspec": {
   "display_name": "Python 3",
   "language": "python",
   "name": "python3"
  },
  "language_info": {
   "name": "python",
   "version": "3.11.5"
  }
 },
 "nbformat": 4,
 "nbformat_minor": 2
}
