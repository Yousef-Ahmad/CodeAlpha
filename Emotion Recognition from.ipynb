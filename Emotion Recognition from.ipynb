{
 "cells": [
  {
   "cell_type": "markdown",
   "metadata": {},
   "source": [
    "## Emotion Recognition from Speech\n",
    "\n",
    "---\n",
    "\n",
    "### Objective:\n",
    "Build a model capable of recognizing emotions in speech audio. Utilize deep learning and speech processing techniques to classify spoken sentences into different emotions such as happiness, anger, or sadness.\n"
   ]
  },
  {
   "cell_type": "markdown",
   "metadata": {},
   "source": [
    "## Steps to Build the Emotion Recognition Model:\n",
    "\n",
    "---\n",
    "\n",
    "### Data Loading and Preprocessing:\n",
    "- **Load the audio data:** Load the audio data and preprocess it into a format suitable for deep learning.\n",
    "\n",
    "---\n",
    "\n",
    "### Feature Extraction:\n",
    "- **Extract features:** Extract features from the audio signals to represent them in a way that can be fed into a neural network.\n",
    "\n",
    "---\n",
    "\n",
    "### Model Building:\n",
    "- **Design the model:** Design a deep learning model using `tensorflow` to classify emotions.\n",
    "\n",
    "---\n",
    "\n",
    "### Model Training and Evaluation:\n",
    "- **Train and Evaluate:** Train the model and evaluate its performance on a test set.\n"
   ]
  },
  {
   "cell_type": "markdown",
   "metadata": {},
   "source": [
    "1. Data Loading and Preprocessing"
   ]
  },
  {
   "cell_type": "code",
   "execution_count": null,
   "metadata": {},
   "outputs": [],
   "source": [
    "# Importing necessary libraries\n",
    "import librosa\n",
    "import numpy as np\n",
    "import pandas as pd\n",
    "from sklearn.model_selection import train_test_split\n",
    "from sklearn.preprocessing import LabelEncoder\n",
    "\n",
    "# Load dataset (Assuming the dataset contains audio file paths and corresponding emotion labels)\n",
    "data = pd.read_csv('audio_data.csv')\n",
    "\n",
    "# Split dataset into features and labels\n",
    "X = data['path_to_audio_files']\n",
    "y = data['emotion']\n",
    "\n",
    "# Encode labels\n",
    "label_encoder = LabelEncoder()\n",
    "y = label_encoder.fit_transform(y)\n",
    "\n",
    "# Split the dataset into training and testing sets\n",
    "X_train, X_test, y_train, y_test = train_test_split(X, y, test_size=0.2, random_state=42)\n"
   ]
  },
  {
   "cell_type": "markdown",
   "metadata": {},
   "source": [
    "2. Feature Extraction"
   ]
  },
  {
   "cell_type": "code",
   "execution_count": null,
   "metadata": {},
   "outputs": [],
   "source": [
    "# Function to extract features from audio files\n",
    "def extract_feature(file_path):\n",
    "    audio, sample_rate = librosa.load(file_path, res_type='kaiser_fast')\n",
    "    mfccs = librosa.feature.mfcc(y=audio, sr=sample_rate, n_mfcc=13)\n",
    "    return np.mean(mfccs.T, axis=0)\n",
    "\n",
    "# Extract features from training and testing data\n",
    "X_train = np.array([extract_feature(file) for file in X_train])\n",
    "X_test = np.array([extract_feature(file) for file in X_test])\n"
   ]
  },
  {
   "cell_type": "markdown",
   "metadata": {},
   "source": [
    "3. Model Building"
   ]
  },
  {
   "cell_type": "code",
   "execution_count": null,
   "metadata": {},
   "outputs": [],
   "source": [
    "import tensorflow as tf\n",
    "from tensorflow.keras.models import Sequential\n",
    "from tensorflow.keras.layers import Dense, Dropout, BatchNormalization\n",
    "\n",
    "# Define the deep learning model\n",
    "model = Sequential([\n",
    "    Dense(256, input_shape=(X_train.shape[1],), activation='relu'),\n",
    "    BatchNormalization(),\n",
    "    Dropout(0.5),\n",
    "    Dense(128, activation='relu'),\n",
    "    BatchNormalization(),\n",
    "    Dropout(0.5),\n",
    "    Dense(64, activation='relu'),\n",
    "    Dense(len(label_encoder.classes_), activation='softmax')\n",
    "])\n",
    "\n",
    "# Compile the model\n",
    "model.compile(optimizer='adam', loss='sparse_categorical_crossentropy', metrics=['accuracy'])\n",
    "\n",
    "# Display the model summary\n",
    "model.summary()\n"
   ]
  },
  {
   "cell_type": "markdown",
   "metadata": {},
   "source": [
    "4. Model Training and Evaluation"
   ]
  },
  {
   "cell_type": "code",
   "execution_count": null,
   "metadata": {},
   "outputs": [],
   "source": [
    "# Train the model\n",
    "history = model.fit(X_train, y_train, validation_split=0.2, epochs=50, batch_size=32)\n",
    "\n",
    "# Evaluate the model on test data\n",
    "loss, accuracy = model.evaluate(X_test, y_test)\n",
    "print(f\"Test Loss: {loss}\")\n",
    "print(f\"Test Accuracy: {accuracy * 100:.2f}%\")\n"
   ]
  },
  {
   "cell_type": "markdown",
   "metadata": {},
   "source": [
    "## Explanation:\n",
    "\n",
    "---\n",
    "\n",
    "## Data Loading and Preprocessing:\n",
    "\n",
    "### Loaded the MNIST dataset:\n",
    "Loaded the MNIST dataset using `tensorflow.keras.datasets`.\n",
    "\n",
    "### Normalized pixel values:\n",
    "Normalized the pixel values of the images to the range [0, 1].\n",
    "\n",
    "### Reshaped images:\n",
    "Reshaped the images to 28x28x1 (grayscale) to match the input shape expected by the CNN.\n",
    "\n",
    "### Split the dataset:\n",
    "Split the dataset into training, validation, and testing sets to train and validate the model.\n",
    "\n",
    "---\n",
    "\n",
    "## Model Building:\n",
    "\n",
    "### Designed Convolutional Neural Network (CNN):\n",
    "Designed a Convolutional Neural Network (CNN) using `tensorflow.keras`.\n",
    "\n",
    "### CNN Architecture:\n",
    "Used Conv2D layers for feature extraction, MaxPooling2D layers for downsampling, and dense layers for classification.\n",
    "\n",
    "---\n",
    "\n",
    "## Model Training and Evaluation:\n",
    "\n",
    "### Compiled and trained the model:\n",
    "Compiled the model using an appropriate optimizer, loss function, and metrics. Then, trained the model on the training data.\n",
    "\n",
    "### Model Evaluation:\n",
    "Evaluated the model's performance on the test data to assess its accuracy and other relevant metrics.\n",
    "\n",
    "---\n",
    "\n",
    "## Prediction:\n",
    "\n",
    "### Made predictions:\n",
    "Made predictions using the trained model on the test data to classify the images.\n",
    "\n",
    "### Visualization:\n",
    "Plotted some predictions along with the true labels for visualization to understand the model's performance visually.\n"
   ]
  }
 ],
 "metadata": {
  "kernelspec": {
   "display_name": "Python 3",
   "language": "python",
   "name": "python3"
  },
  "language_info": {
   "codemirror_mode": {
    "name": "ipython",
    "version": 3
   },
   "file_extension": ".py",
   "mimetype": "text/x-python",
   "name": "python",
   "nbconvert_exporter": "python",
   "pygments_lexer": "ipython3",
   "version": "3.11.5"
  }
 },
 "nbformat": 4,
 "nbformat_minor": 2
}
